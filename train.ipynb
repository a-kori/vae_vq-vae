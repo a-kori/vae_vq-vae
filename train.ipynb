{
  "cells": [
    {
      "attachments": {},
      "cell_type": "markdown",
      "metadata": {
        "id": "2R88GtApjf6O"
      },
      "source": [
        "# Fachprojekt Machine Learning\n",
        "Authors: Anastasiia Korzhylova, Ivan Shishkin, Ramneek Agnihotri, Rodi Mehi\n",
        "\n",
        "**Due date:** Wednesday, 12. June 2024"
      ]
    },
    {
      "cell_type": "markdown",
      "metadata": {
        "id": "cykyTX8rnQOk"
      },
      "source": [
        "## Import necessary components"
      ]
    },
    {
      "cell_type": "code",
      "execution_count": null,
      "metadata": {
        "colab": {
          "base_uri": "https://localhost:8080/",
          "height": 630
        },
        "id": "bFfDaBYcWnxB",
        "outputId": "f1327160-f1c9-4b1c-8881-dc67118296fd"
      },
      "outputs": [],
      "source": [
        "# Import the necessary libraries\n",
        "import time\n",
        "import torch, torch.nn.functional as F\n",
        "from torch.utils.data import DataLoader\n",
        "from torch.optim.lr_scheduler import StepLR, ExponentialLR, CosineAnnealingLR\n",
        "\n",
        "# Import the VAE model and functions\n",
        "import networks\n",
        "from datasets import create_datasets\n",
        "from evaluation import evaluate\n",
        "from sampling import sample, plot_reconstruction"
      ]
    },
    {
      "attachments": {},
      "cell_type": "markdown",
      "metadata": {
        "id": "X3RVtvjjrCnI"
      },
      "source": [
        "## Set hyperparameters, loss function and optimizing tools"
      ]
    },
    {
      "cell_type": "code",
      "execution_count": null,
      "metadata": {
        "colab": {
          "base_uri": "https://localhost:8080/"
        },
        "id": "Yz1B0uMXkZS5",
        "outputId": "a7be3d95-a307-4a15-a210-8001b6371a39"
      },
      "outputs": [],
      "source": [
        "# Hyperparameters\n",
        "batch_size = 64 # Number of images per update of the network\n",
        "num_epochs = 50 # One epoch means seeing every image of the training dataset, which consists of 50000 images\n",
        "latent_dim = 128  # Size of the latent space\n",
        "input_channels = 3  # CIFAR-10 images have 3 color channels\n",
        "learning_rate = 0.0001 # Determines how drastically the parameters of the network change\n",
        "\n",
        "# Select the device that will be used for training: GPU, if available, otherwise CPU\n",
        "device = torch.device('cuda' if torch.cuda.is_available() else 'cpu')\n",
        "print(f'Using device: {device}')\n",
        "print('=========================================')\n",
        "\n",
        "# Put the neural network on the selected device\n",
        "model = networks.VAE(input_channels, latent_dim)\n",
        "model.to(device)\n",
        "\n",
        "# Loss function\n",
        "def loss_function(reconstructed_x, x, mean, logvar):\n",
        "    BCE = F.binary_cross_entropy(reconstructed_x, x, reduction='sum')\n",
        "    KLD = -0.5 * torch.sum(1 + logvar - mean.pow(2) - logvar.exp())\n",
        "    return BCE + KLD\n",
        "\n",
        "# Optimizer selection\n",
        "optimizer_option = 'adamw'\n",
        "\n",
        "optimizer = None\n",
        "if optimizer_option == \"adam\":\n",
        "  optimizer = torch.optim.Adam(model.parameters(), lr=learning_rate)\n",
        "elif optimizer_option == \"adamw\":\n",
        "  optimizer = torch.optim.AdamW(model.parameters(), lr=learning_rate)\n",
        "elif optimizer_option == \"rmsprop\":\n",
        "  optimizer = torch.optim.RMSprop(model.parameters(), lr=learning_rate)\n",
        "else:\n",
        "  optimizer = torch.optim.SGD(model.parameters(), lr=learning_rate)\n",
        "\n",
        "# Learning rate scheduler parameters\n",
        "lr_schedule_option = 'cosine'\n",
        "\n",
        "scheduler = None\n",
        "if lr_schedule_option == 'step':\n",
        "  scheduler = StepLR(optimizer, step_size=30, gamma=0.5)\n",
        "elif lr_schedule_option == 'exponential':\n",
        "  scheduler = ExponentialLR(optimizer, gamma=0.9)\n",
        "elif lr_schedule_option == 'cosine':\n",
        "  scheduler = CosineAnnealingLR(optimizer, T_max=50, eta_min=0.0001)\n",
        "\n",
        "# Scaler for AMP\n",
        "scaler = torch.cuda.amp.GradScaler()"
      ]
    },
    {
      "attachments": {},
      "cell_type": "markdown",
      "metadata": {},
      "source": [
        "## Choose a dataset for training"
      ]
    },
    {
      "cell_type": "code",
      "execution_count": null,
      "metadata": {},
      "outputs": [],
      "source": [
        "# Create and visualize the datasets for MNIST / CIFAR10\n",
        "dataset_name = 'MNIST'\n",
        "train_loader, test_loader = create_datasets(dataset_name, batch_size)"
      ]
    },
    {
      "attachments": {},
      "cell_type": "markdown",
      "metadata": {
        "id": "q1FNGhYG_IbQ"
      },
      "source": [
        "## Training loop"
      ]
    },
    {
      "cell_type": "code",
      "execution_count": null,
      "metadata": {
        "colab": {
          "base_uri": "https://localhost:8080/",
          "height": 1000
        },
        "id": "yckKrep9WnxD",
        "outputId": "2ae5cd68-4d04-46e7-f947-a2f6dc785dbb"
      },
      "outputs": [],
      "source": [
        "# We want to plot training and testing losses at the end of training\n",
        "train_losses = []\n",
        "test_losses = []\n",
        "learning_rates = []\n",
        "\n",
        "# Training loop\n",
        "for epoch in range(num_epochs):\n",
        "  model.train()\n",
        "  epoch_start_time = time.time()\n",
        "\n",
        "  for _, (data, _) in enumerate(train_loader):\n",
        "    data = data.to(device)\n",
        "    optimizer.zero_grad()\n",
        "\n",
        "    with torch.cuda.amp.autocast():\n",
        "      # Forward pass\n",
        "      recon_batch, mu, logvar = model(data)\n",
        "\n",
        "      # Compute loss\n",
        "      loss = loss_function(recon_batch, data, mu, logvar)\n",
        "      train_losses.append(loss)\n",
        "\n",
        "    # Backward pass\n",
        "    scaler.scale(loss).backward()\n",
        "\n",
        "    # Optimization step\n",
        "    scaler.step(optimizer)\n",
        "    scaler.update()\n",
        "\n",
        "    # Ivan: add logging here\n",
        "\n",
        "  # Step the learning rate scheduler\n",
        "  if scheduler is not None:\n",
        "    lr = scheduler.get_last_lr()[0]\n",
        "    scheduler.step()\n",
        "  else:\n",
        "    lr = learning_rate\n",
        "  learning_rates.append(lr)\n",
        "\n",
        "  # After the epoch, evaluate the accuracy on the test dataset\n",
        "  mean_loss = evaluate(model, test_loader, loss_function, device)\n",
        "  test_losses.append(mean_loss)\n",
        "\n",
        "  elapsed_time = time.time() - epoch_start_time\n",
        "  print(f'Epoch {epoch + 1}, Mean Test Loss: {mean_loss}, Learning Rate: {lr:.6f}, Time: {elapsed_time:.2f}s')\n",
        "\n",
        "  # Generate and log images after each epoch\n",
        "  sample(model, epoch, device, latent_dim, num_samples=5)\n",
        "  print('-----------------------------------------------------------------')\n",
        "  plot_reconstruction(data, recon_batch)\n",
        "\n",
        "# Ivan: add plots here"
      ]
    }
  ],
  "metadata": {
    "accelerator": "GPU",
    "colab": {
      "gpuType": "L4",
      "machine_shape": "hm",
      "provenance": []
    },
    "kernelspec": {
      "display_name": "Python 3",
      "name": "python3"
    },
    "language_info": {
      "codemirror_mode": {
        "name": "ipython",
        "version": 3
      },
      "file_extension": ".py",
      "mimetype": "text/x-python",
      "name": "python",
      "nbconvert_exporter": "python",
      "pygments_lexer": "ipython3",
      "version": "3.11.1"
    },
    "vscode": {
      "interpreter": {
        "hash": "d25d8f77c9dea5a8c980ef8c2297485875df437f977b5aaad6473d2fbcee338b"
      }
    }
  },
  "nbformat": 4,
  "nbformat_minor": 0
}
